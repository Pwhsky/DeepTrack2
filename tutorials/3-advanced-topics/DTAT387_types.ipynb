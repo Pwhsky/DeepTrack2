{
 "cells": [
  {
   "cell_type": "markdown",
   "metadata": {},
   "source": [
    "# deeptrack.types\n",
    "\n",
    "<a href=\"https://colab.research.google.com/github/DeepTrackAI/DeepTrack2/blob/develop/tutorials/3-advanced-topics/DTAT387_types.ipynb\" target=\"_parent\"><img src=\"https://colab.research.google.com/assets/colab-badge.svg\" alt=\"Open In Colab\"/></a>"
   ]
  },
  {
   "cell_type": "code",
   "execution_count": 1,
   "metadata": {},
   "outputs": [],
   "source": [
    "# !pip install deeptrack  # Uncomment if running on Colab/Kaggle."
   ]
  },
  {
   "cell_type": "markdown",
   "metadata": {},
   "source": [
    "This advanced tutorial introduces the types module."
   ]
  },
  {
   "cell_type": "markdown",
   "metadata": {},
   "source": [
    "## 1. What is `types`?\n",
    "\n",
    "The `types` module introduces custom datatype aliases for type hints throughout the DeepTrack2 codebase.\n",
    "Type hints are used when declaring a function or class to improve readability and maintanability by specifying expected parameters and attribute types.\n",
    "\n",
    "Currently there are three type aliases in DeepTrack2:\n",
    "\n",
    "- `PropertyLike` for values or callables, can contain a generic datatype or a callable function which returns a generic datatype.\n",
    "- `ArrayLike` for array-like structures (e.g., tuples, lists, numpy arrays).\n",
    "- `NumberLike` for numeric types, including scalars and arrays (e.g., numpy \n",
    "    arrays, GPU tensors)."
   ]
  },
  {
   "cell_type": "markdown",
   "metadata": {},
   "source": [
    "## 2. Declare a function with type hints\n",
    "\n",
    "An elementary example of the usage of a type hint can be seen below:"
   ]
  },
  {
   "cell_type": "code",
   "execution_count": null,
   "metadata": {},
   "outputs": [],
   "source": [
    "from deeptrack.types import ArrayLike\n",
    "\n",
    "def matrix_add(\n",
    "    input: ArrayLike[float]\n",
    ") -> ArrayLike[float]:\n",
    "    \n",
    "    return input + input"
   ]
  },
  {
   "cell_type": "markdown",
   "metadata": {},
   "source": [
    "And in the context of DeepTrack2, a larger class with several type hints can look something like the following:\n",
    "```python\n",
    "class Augmentation(Feature):\n",
    "    def __init__(\n",
    "        self,\n",
    "        time_consistent: bool = False,\n",
    "        **kwargs\n",
    "    ) -> None:\n",
    "        super().__init__(time_consistent=time_consistent, **kwargs)\n",
    "\n",
    "    def _image_wrapped_process_and_get (\n",
    "        self,\n",
    "        image_list: List[Image],\n",
    "        time_consistent: PropertyLike[bool],\n",
    "        **kwargs\n",
    "    ) -> List[List]:\n",
    "\n",
    "```"
   ]
  },
  {
   "cell_type": "markdown",
   "metadata": {},
   "source": [
    "## 3. Declare a new type hint\n",
    "\n",
    "We will now declare a new type hint of our own which will represent non-integer numeric datatypes with higher precision than the standard float datatype. We will use `Union` for this, which lets us gather datatypes into a single set."
   ]
  },
  {
   "cell_type": "code",
   "execution_count": null,
   "metadata": {},
   "outputs": [],
   "source": [
    "from typing import Union\n",
    "import numpy as np\n",
    "\n",
    "# Declare type with Union.\n",
    "DoubleLike = Union[np.float64, np.longdouble, np.longcomplex]\n",
    "print(DoubleLike)\n",
    "\n",
    "# Declare function with new type hint.\n",
    "def double_add(\n",
    "    input: ArrayLike[DoubleLike],\n",
    "    number: DoubleLike\n",
    ") -> ArrayLike[DoubleLike]:\n",
    "    \n",
    "    return input + number\n",
    "\n"
   ]
  }
 ],
 "metadata": {
  "kernelspec": {
   "display_name": "Python 3",
   "language": "python",
   "name": "python3"
  },
  "language_info": {
   "codemirror_mode": {
    "name": "ipython",
    "version": 3
   },
   "file_extension": ".py",
   "mimetype": "text/x-python",
   "name": "python",
   "nbconvert_exporter": "python",
   "pygments_lexer": "ipython3",
   "version": "3.9.13"
  }
 },
 "nbformat": 4,
 "nbformat_minor": 2
}

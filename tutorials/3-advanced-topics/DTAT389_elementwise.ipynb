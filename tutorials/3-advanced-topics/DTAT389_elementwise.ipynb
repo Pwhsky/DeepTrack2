{
 "cells": [
  {
   "cell_type": "markdown",
   "metadata": {},
   "source": [
    "# deeptrack.elementwise\n",
    "\n",
    "<a href=\"https://colab.research.google.com/github/DeepTrackAI/DeepTrack2/blob/develop/tutorials/3-advanced-topics/DTAT389_elementwise.ipynb\" target=\"_parent\"><img src=\"https://colab.research.google.com/assets/colab-badge.svg\" alt=\"Open In Colab\"/></a>"
   ]
  },
  {
   "cell_type": "code",
   "execution_count": 1,
   "metadata": {},
   "outputs": [],
   "source": [
    "# !pip install deeptrack  # Uncomment if running on Colab/Kaggle."
   ]
  },
  {
   "cell_type": "markdown",
   "metadata": {},
   "source": [
    "This advanced tutorial introduces the elementwise module."
   ]
  },
  {
   "cell_type": "markdown",
   "metadata": {},
   "source": [
    "## 1. What is elementwise?\n",
    "\n",
    "The elementwise module introduces utility functions which lets the user apply Numpy functions to `Feature` objects elementwise.\n",
    "Some functions included in elementwise are:\n",
    "\n",
    "- Trigonometric\n",
    "- Hyperbolic\n",
    "- Rounding \n",
    "- Exponents and Logarithms\n",
    "- Complex "
   ]
  },
  {
   "cell_type": "markdown",
   "metadata": {},
   "source": [
    "## 2. Initialize a `Feature`\n",
    "\n",
    "We create a feature that subtracts values from an image."
   ]
  },
  {
   "cell_type": "code",
   "execution_count": null,
   "metadata": {},
   "outputs": [
    {
     "name": "stdout",
     "output_type": "stream",
     "text": [
      "[-9 -8 -7]\n"
     ]
    }
   ],
   "source": [
    "import numpy as np\n",
    "from deeptrack.features import Feature\n",
    "\n",
    "\n",
    "class Subtract(Feature):\n",
    "    def get(self, image, value, **kwargs):\n",
    "        return image - value\n",
    "\n",
    "subtract_10 = Subtract(value=10)\n",
    "\n",
    "input_image = np.array([1, 2, 3])\n",
    "output_image = subtract_10(input_image)\n",
    "print(output_image)"
   ]
  },
  {
   "cell_type": "markdown",
   "metadata": {},
   "source": [
    "## 3. Compute the Absolute value of the feature (In sequence)\n"
   ]
  },
  {
   "cell_type": "code",
   "execution_count": null,
   "metadata": {},
   "outputs": [
    {
     "name": "stdout",
     "output_type": "stream",
     "text": [
      "[9 8 7]\n",
      "[9 8 7]\n"
     ]
    }
   ],
   "source": [
    "from deeptrack.elementwise import Abs\n",
    "\n",
    "\n",
    "# Sequentially take the absolute value after subtraction.\n",
    "pipeline = Abs(subtract_10)\n",
    "output_image = pipeline(input_image)\n",
    "print(output_image)\n",
    "\n",
    "# Or equivalently:\n",
    "pipeline = subtract_10 >> Abs()\n",
    "output_image = pipeline(input_image)\n",
    "print(output_image)\n",
    "\n"
   ]
  }
 ],
 "metadata": {
  "kernelspec": {
   "display_name": "Python 3",
   "language": "python",
   "name": "python3"
  },
  "language_info": {
   "codemirror_mode": {
    "name": "ipython",
    "version": 3
   },
   "file_extension": ".py",
   "mimetype": "text/x-python",
   "name": "python",
   "nbconvert_exporter": "python",
   "pygments_lexer": "ipython3",
   "version": "3.9.13"
  }
 },
 "nbformat": 4,
 "nbformat_minor": 2
}

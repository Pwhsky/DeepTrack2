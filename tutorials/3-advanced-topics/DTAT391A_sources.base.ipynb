{
 "cells": [
  {
   "cell_type": "markdown",
   "metadata": {},
   "source": [
    "# deeptrack.sources.base\n",
    "\n",
    "<a href=\"https://colab.research.google.com/github/DeepTrackAI/DeepTrack2/blob/develop/tutorials/3-advanced-topics/DTAT391A.ipynb\" target=\"_parent\"><img src=\"https://colab.research.google.com/assets/colab-badge.svg\" alt=\"Open In Colab\"/></a>"
   ]
  },
  {
   "cell_type": "code",
   "execution_count": 1,
   "metadata": {},
   "outputs": [],
   "source": [
    "# !pip install deeptrack  # Uncomment if running on Colab/Kaggle."
   ]
  },
  {
   "cell_type": "markdown",
   "metadata": {},
   "source": [
    "This advanced tutorial introduces the sources.base module."
   ]
  },
  {
   "cell_type": "markdown",
   "metadata": {},
   "source": [
    "## 1. What is `base`?\n",
    "\n",
    "The `base` module provides utilities for manipulating data sources, primarily when data needs to be dynamically manipulated, filtered or combined. This guide explains how to use each component in the module with examples."
   ]
  },
  {
   "cell_type": "markdown",
   "metadata": {},
   "source": [
    "## 2.  Dynamically generate child nodes when attributes are accessed with `SourceDeepTrackNode`."
   ]
  },
  {
   "cell_type": "code",
   "execution_count": null,
   "metadata": {},
   "outputs": [
    {
     "name": "stdout",
     "output_type": "stream",
     "text": [
      "30\n"
     ]
    }
   ],
   "source": [
    "from deeptrack.sources.base import SourceDeepTrackNode\n",
    "\n",
    "# Define parent node.\n",
    "node = SourceDeepTrackNode(lambda: {\"a\": 10, \"b\": 20})\n",
    "\n",
    "# Create child nodes.\n",
    "child_a = node.a\n",
    "child_b = node.b\n",
    "\n",
    "# Call child nodes.\n",
    "print (child_a() + child_b())"
   ]
  },
  {
   "cell_type": "markdown",
   "metadata": {},
   "source": [
    "## 3. Generate a source item that allows callbacks when accessed"
   ]
  },
  {
   "cell_type": "code",
   "execution_count": null,
   "metadata": {},
   "outputs": [
    {
     "name": "stdout",
     "output_type": "stream",
     "text": [
      "Item accessed: SourceItem({'a': 5, 'b': 10})\n",
      "5\n"
     ]
    }
   ],
   "source": [
    "from deeptrack.sources.base import SourceItem\n",
    "\n",
    "def callback(item):\n",
    "    print(\"Item accessed:\", item)\n",
    "\n",
    "# Create a SourceItem with a callback.\n",
    "item = SourceItem([callback], a=5, b=10)\n",
    "\n",
    "# Call the item to trigger a callback.\n",
    "item()  \n",
    "\n",
    "# Access values directly\n",
    "print(item[\"a\"])"
   ]
  },
  {
   "cell_type": "markdown",
   "metadata": {},
   "source": [
    "## 4. Generate a dataset of multiple `SourceItem` objects."
   ]
  },
  {
   "cell_type": "code",
   "execution_count": null,
   "metadata": {},
   "outputs": [
    {
     "name": "stdout",
     "output_type": "stream",
     "text": [
      "SourceItem({'a': 1, 'b': 4})\n",
      "SourceItem({'a': 2, 'b': 5})\n",
      "SourceItem({'a': 1, 'b': 4})\n",
      "SourceItem({'a': 2, 'b': 5})\n",
      "SourceItem({'a': 3, 'b': 6})\n"
     ]
    }
   ],
   "source": [
    "from deeptrack.sources.base import Source\n",
    "\n",
    "# Define a source with multiple attributes.\n",
    "dataset = Source(a=[1, 2, 3], b=[4, 5, 6])\n",
    "\n",
    "# Access elements by index.\n",
    "print(dataset[0])\n",
    "print(dataset[1]()) \n",
    "\n",
    "# Print the items in the dataset.\n",
    "for item in dataset:\n",
    "    print(item)"
   ]
  },
  {
   "cell_type": "markdown",
   "metadata": {},
   "source": [
    "## 5. Combine existing attributes with `Product`"
   ]
  },
  {
   "cell_type": "code",
   "execution_count": null,
   "metadata": {},
   "outputs": [
    {
     "name": "stdout",
     "output_type": "stream",
     "text": [
      "SourceItem({'c': 5, 'a': 1, 'b': 3})\n",
      "SourceItem({'c': 6, 'a': 1, 'b': 3})\n",
      "SourceItem({'c': 5, 'a': 2, 'b': 4})\n",
      "SourceItem({'c': 6, 'a': 2, 'b': 4})\n"
     ]
    }
   ],
   "source": [
    "from deeptrack.sources.base import Source\n",
    "\n",
    "# Create a source\n",
    "source = Source(a=[1, 2], b=[3, 4])\n",
    "\n",
    "# Generate a new source as a product with new attributes.\n",
    "new_source = source.product(c=[5, 6])\n",
    "\n",
    "# Print the combinations.\n",
    "for item in new_source:\n",
    "    print(item)"
   ]
  },
  {
   "cell_type": "markdown",
   "metadata": {},
   "source": [
    "## 6. Filter dataset items with `Subset`"
   ]
  },
  {
   "cell_type": "code",
   "execution_count": null,
   "metadata": {},
   "outputs": [
    {
     "name": "stdout",
     "output_type": "stream",
     "text": [
      "SourceItem({'a': 2, 'b': 2})\n",
      "SourceItem({'a': 4, 'b': 4})\n",
      "SourceItem({'a': 2, 'b': 7})\n",
      "SourceItem({'a': 8, 'b': 9})\n",
      "SourceItem({'a': 8, 'b': 11})\n"
     ]
    }
   ],
   "source": [
    "from deeptrack.sources import Source, Subset\n",
    "\n",
    "# Define a source.\n",
    "source = Source(\n",
    "    a=[1, 2, 3, 4, 2, 8, 8],\n",
    "    b=[1, 2, 3, 4, 7, 9, 11 ]\n",
    ")\n",
    "\n",
    "# Create a subset with only even values of 'a'.\n",
    "subset = source.filter(lambda a, b: a % 2 == 0)\n",
    "\n",
    "# Print subset values.\n",
    "for item in subset:\n",
    "    print(item)"
   ]
  },
  {
   "cell_type": "markdown",
   "metadata": {},
   "source": [
    "## 7. Random splitting of sources into multiple subsets\n"
   ]
  },
  {
   "cell_type": "code",
   "execution_count": null,
   "metadata": {},
   "outputs": [
    {
     "name": "stdout",
     "output_type": "stream",
     "text": [
      "Subset 1:\n",
      "SourceItem({'a': 4, 'b': 10})\n",
      "SourceItem({'a': 3, 'b': 9})\n",
      "Subset 2:\n",
      "SourceItem({'a': 6, 'b': 12})\n",
      "SourceItem({'a': 5, 'b': 11})\n",
      "SourceItem({'a': 2, 'b': 8})\n",
      "SourceItem({'a': 1, 'b': 7})\n"
     ]
    }
   ],
   "source": [
    "from deeptrack.sources import Source, random_split\n",
    "import numpy as np\n",
    "\n",
    "# Create a source\n",
    "source = Source(\n",
    "    a=[1, 2, 3, 4, 5, 6],\n",
    "    b=[7, 8, 9, 10, 11, 12],\n",
    ")\n",
    "\n",
    "# Split into two subsets (proportionally to 30% and 70%)\n",
    "# commonly used for validation during training.\n",
    "train_subset, test_subset = random_split(\n",
    "    source,\n",
    "    lengths=[0.3, 0.7],\n",
    "    generator=np.random.default_rng(42)\n",
    ")\n",
    "\n",
    "print(\"Subset 1:\")\n",
    "for item in train_subset:\n",
    "    print(item)\n",
    "\n",
    "print(\"Subset 2:\")\n",
    "for item in test_subset:\n",
    "    print(item)"
   ]
  }
 ],
 "metadata": {
  "kernelspec": {
   "display_name": "Python 3",
   "language": "python",
   "name": "python3"
  },
  "language_info": {
   "codemirror_mode": {
    "name": "ipython",
    "version": 3
   },
   "file_extension": ".py",
   "mimetype": "text/x-python",
   "name": "python",
   "nbconvert_exporter": "python",
   "pygments_lexer": "ipython3",
   "version": "3.9.13"
  }
 },
 "nbformat": 4,
 "nbformat_minor": 2
}

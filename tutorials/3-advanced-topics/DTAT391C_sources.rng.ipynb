{
 "cells": [
  {
   "cell_type": "markdown",
   "metadata": {},
   "source": [
    "# deeptrack.sources.rng\n",
    "\n",
    "<a href=\"https://colab.research.google.com/github/DeepTrackAI/DeepTrack2/blob/develop/tutorials/3-advanced-topics/DTAT391C_sources.rng.ipynb\" target=\"_parent\"><img src=\"https://colab.research.google.com/assets/colab-badge.svg\" alt=\"Open In Colab\"/></a>"
   ]
  },
  {
   "cell_type": "code",
   "execution_count": 1,
   "metadata": {},
   "outputs": [],
   "source": [
    "# !pip install deeptrack  # Uncomment if running on Colab/Kaggle."
   ]
  },
  {
   "cell_type": "markdown",
   "metadata": {},
   "source": [
    "This advanced tutorial introduces the sources.rng module."
   ]
  },
  {
   "cell_type": "markdown",
   "metadata": {},
   "source": [
    "## 1. What is `rng`?\n",
    "\n",
    "The `rng` module is an extension of both Numpy and Python random number generator objects. It lets the user instance several generators with different seeds, returned as lists.\n"
   ]
  },
  {
   "cell_type": "markdown",
   "metadata": {},
   "source": [
    "## 2. Instance Python random number generator objects.\n",
    "Generate a list of Python rng's and sample some numbers from them, followed by resetting the states and sampling once more."
   ]
  },
  {
   "cell_type": "code",
   "execution_count": null,
   "metadata": {
    "execution": {
     "iopub.execute_input": "2022-06-29T20:33:47.187180Z",
     "iopub.status.busy": "2022-06-29T20:33:47.186679Z",
     "iopub.status.idle": "2022-06-29T20:33:50.691576Z",
     "shell.execute_reply": "2022-06-29T20:33:50.691075Z"
    }
   },
   "outputs": [
    {
     "name": "stdout",
     "output_type": "stream",
     "text": [
      "Python rng #0 yields a Random Number -> 36\n",
      "Python rng #1 yields a Random Number -> 83\n",
      "Python rng #2 yields a Random Number -> 28\n",
      "Python rng #0 yields a Random Number -> 36\n",
      "Python rng #1 yields a Random Number -> 83\n",
      "Python rng #2 yields a Random Number -> 28\n"
     ]
    }
   ],
   "source": [
    "from deeptrack.sources.rng import PythonRNG\n",
    "\n",
    "\n",
    "python_rng = PythonRNG(n_states=3, seed=123)\n",
    "states = python_rng._generate_states()\n",
    "\n",
    "for i, rng in enumerate(states):\n",
    "    print(f\"Python rng #{i} yields a Random Number: {rng.randint(0, 100)}\")\n",
    "\n",
    "# Reset states to obtain the same numbers.\n",
    "python_rng.reset()\n",
    "new_states = python_rng._generate_states()\n",
    "\n",
    "for i, rng in enumerate(new_states):\n",
    "    print(f\"Python rng #{i} yields a Random Number: {rng.randint(0, 100)}\")"
   ]
  },
  {
   "cell_type": "markdown",
   "metadata": {},
   "source": [
    "## 3. Instance Numpy random number generator objects.\n",
    "In the same way, we do it for Numpy rng's."
   ]
  },
  {
   "cell_type": "code",
   "execution_count": null,
   "metadata": {},
   "outputs": [
    {
     "name": "stdout",
     "output_type": "stream",
     "text": [
      "Numpy rng #0 yields a Random Number -> 4\n",
      "Numpy rng #1 yields a Random Number -> 88\n",
      "Numpy rng #2 yields a Random Number -> 55\n",
      "Numpy rng #0 yields a Random Number -> 4\n",
      "Numpy rng #1 yields a Random Number -> 88\n",
      "Numpy rng #2 yields a Random Number -> 55\n"
     ]
    }
   ],
   "source": [
    "from deeptrack.sources.rng import NumpyRNG\n",
    "\n",
    "\n",
    "numpy_rng = NumpyRNG(n_states=3, seed=123)\n",
    "states = numpy_rng._generate_states()\n",
    "\n",
    "for i, rng in enumerate(states):\n",
    "    print(f\"Numpy rng #{i} yields a Random Number: {rng.randint(0, 100)}\")\n",
    "\n",
    "# Reset states to obtain the same numbers.\n",
    "numpy_rng.reset()\n",
    "new_states = numpy_rng._generate_states()\n",
    "\n",
    "for i, rng in enumerate(new_states):\n",
    "    print(f\"Numpy rng #{i} yields a Random Number: {rng.randint(0, 100)}\")"
   ]
  }
 ],
 "metadata": {
  "kernelspec": {
   "display_name": "Python 3",
   "language": "python",
   "name": "python3"
  },
  "language_info": {
   "codemirror_mode": {
    "name": "ipython",
    "version": 3
   },
   "file_extension": ".py",
   "mimetype": "text/x-python",
   "name": "python",
   "nbconvert_exporter": "python",
   "pygments_lexer": "ipython3",
   "version": "3.9.13"
  }
 },
 "nbformat": 4,
 "nbformat_minor": 2
}

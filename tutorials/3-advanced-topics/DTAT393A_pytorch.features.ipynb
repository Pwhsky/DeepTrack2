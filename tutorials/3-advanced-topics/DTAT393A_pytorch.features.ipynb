{
 "cells": [
  {
   "cell_type": "markdown",
   "metadata": {},
   "source": [
    "# deeptrack.pytorch.features\n",
    "\n",
    "<a href=\"https://colab.research.google.com/github/DeepTrackAI/DeepTrack2/blob/develop/tutorials/3-advanced-topics/DTAT393A.ipynb\" target=\"_parent\"><img src=\"https://colab.research.google.com/assets/colab-badge.svg\" alt=\"Open In Colab\"/></a>"
   ]
  },
  {
   "cell_type": "code",
   "execution_count": 1,
   "metadata": {},
   "outputs": [],
   "source": [
    "# !pip install deeptrack  # Uncomment if running on Colab/Kaggle."
   ]
  },
  {
   "cell_type": "markdown",
   "metadata": {},
   "source": [
    "This advanced tutorial introduces the pytorch.features module."
   ]
  },
  {
   "cell_type": "markdown",
   "metadata": {},
   "source": [
    "## 1. What is `pytorch.features`?\n",
    "\n",
    "The `pytorch.features` module contains a class `ToTensor` which transforms an input to a PyTorch tensor and lets the user specify the torch.device, expand dimensions, and permute to move the input channel first."
   ]
  },
  {
   "cell_type": "markdown",
   "metadata": {},
   "source": [
    "## 2. Convert a numpy array to a tensor"
   ]
  },
  {
   "cell_type": "code",
   "execution_count": null,
   "metadata": {},
   "outputs": [
    {
     "name": "stdout",
     "output_type": "stream",
     "text": [
      "tensor([1., 2., 3.])\n"
     ]
    }
   ],
   "source": [
    "import numpy as np\n",
    "import torch\n",
    "\n",
    "from deeptrack.pytorch import ToTensor\n",
    "\n",
    "numpy_array = np.array([1.0, 2.0, 3.0])\n",
    "\n",
    "Tensor_converter = ToTensor(\n",
    "    dtype=torch.float32,\n",
    "    device=None, \n",
    "    add_dim_to_number=False,\n",
    "    permute_mode=\"numpy\"\n",
    ")\n",
    "\n",
    "torch_tensor = Tensor_converter(numpy_array)\n",
    "print(torch_tensor)"
   ]
  }
 ],
 "metadata": {
  "kernelspec": {
   "display_name": "Python 3",
   "language": "python",
   "name": "python3"
  },
  "language_info": {
   "codemirror_mode": {
    "name": "ipython",
    "version": 3
   },
   "file_extension": ".py",
   "mimetype": "text/x-python",
   "name": "python",
   "nbconvert_exporter": "python",
   "pygments_lexer": "ipython3",
   "version": "3.9.13"
  }
 },
 "nbformat": 4,
 "nbformat_minor": 2
}

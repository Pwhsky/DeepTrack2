{
 "cells": [
  {
   "cell_type": "markdown",
   "metadata": {},
   "source": [
    "# deeptrack.pytorch.data\n",
    "\n",
    "<a href=\"https://colab.research.google.com/github/DeepTrackAI/DeepTrack2/blob/develop/tutorials/3-advanced-topics/DTAT393B.ipynb\" target=\"_parent\"><img src=\"https://colab.research.google.com/assets/colab-badge.svg\" alt=\"Open In Colab\"/></a>"
   ]
  },
  {
   "cell_type": "code",
   "execution_count": 1,
   "metadata": {},
   "outputs": [],
   "source": [
    "# !pip install deeptrack  # Uncomment if running on Colab/Kaggle."
   ]
  },
  {
   "cell_type": "markdown",
   "metadata": {},
   "source": [
    "This advanced tutorial introduces the pytorch.data module and follows closely the [`DTGS111_datafiles`](https://github.com/DeepTrackAI/DeepTrack2/blob/develop/tutorials/1-getting-started/DTGS111_datafiles.ipynb) tutorial but focuses more on the functionality of the `Dataset` class."
   ]
  },
  {
   "cell_type": "markdown",
   "metadata": {},
   "source": [
    "## 1. What is `pytorch.data`?\n",
    "\n",
    "The `pytorch.data` module provides a class named `Dataset`, which extends the [`PyTorch Dataset`](https://pytorch.org/tutorials/beginner/basics/data_tutorial.html) class through direct inheritance. The DeepTrack2 `Dataset` class provides functions such as `__getitem__()` and `__len__()` which are function similarily to `PyTorch Dataset`.\n",
    "\n",
    "It can take a pipeline as an argument, letting you integrate transformations and augmentations.\n",
    "\n"
   ]
  },
  {
   "cell_type": "markdown",
   "metadata": {},
   "source": [
    "## 2. Downloading a dataset\n"
   ]
  },
  {
   "cell_type": "code",
   "execution_count": null,
   "metadata": {},
   "outputs": [],
   "source": [
    "import os\n",
    "\n",
    "import deeptrack as dt\n",
    "import numpy as np\n",
    "from torchvision.datasets.utils import download_url, _extract_zip\n",
    "\n",
    "\n",
    "dataset_path = os.path.join(\".\", \"blood_smears_dataset\")\n",
    "if not os.path.exists(dataset_path):\n",
    "    url = \"https://data.lhncbc.nlm.nih.gov/public/Malaria/cell_images.zip\"\n",
    "    download_url(url, \".\")\n",
    "    _extract_zip(\"cell_images.zip\", dataset_path, None)\n",
    "    os.remove(\"cell_images.zip\")"
   ]
  },
  {
   "cell_type": "markdown",
   "metadata": {},
   "source": [
    "## 3. Use `Source` to provide metadata about the data"
   ]
  },
  {
   "cell_type": "code",
   "execution_count": 3,
   "metadata": {},
   "outputs": [
    {
     "name": "stdout",
     "output_type": "stream",
     "text": [
      "Dataset contains 27558 images\n",
      "There are 27558 files.\n",
      "The first file is SourceItem({'path': '.\\\\blood_smears_dataset\\\\cell_images\\\\Parasitized\\\\C100P61ThinF_IMG_20150918_144104_cell_162.png', 'label': 0, 'label_name': 'Parasitized'}).\n"
     ]
    }
   ],
   "source": [
    "files = dt.sources.ImageFolder(root=os.path.join(dataset_path, \"cell_images\"))\n",
    "print(f\"Dataset contains {len(files)} images\")\n",
    "print(f\"There are {len(files)} files.\")\n",
    "print(f\"The first file is {files[0]}.\")"
   ]
  },
  {
   "cell_type": "markdown",
   "metadata": {},
   "source": [
    "## 3. Combining sources with features"
   ]
  },
  {
   "cell_type": "code",
   "execution_count": 4,
   "metadata": {},
   "outputs": [],
   "source": [
    "loader = dt.LoadImage(path=files.path)\n",
    "label_pipeline = dt.Value(value=files.label)\n",
    "\n",
    "loader_pipeline = (\n",
    "    loader \n",
    "    >> dt.Resize((32, 32))\n",
    "    >> dt.Divide(255)\n",
    ")\n",
    "\n",
    "data_pipeline = loader_pipeline & label_pipeline"
   ]
  },
  {
   "cell_type": "markdown",
   "metadata": {},
   "source": [
    "## 4. Creating a PyTorch Dataset\n",
    "Finally, you implement the DeepTrack2 `Dataset` class by combining it with the data pipeline and the source of the files."
   ]
  },
  {
   "cell_type": "code",
   "execution_count": 5,
   "metadata": {},
   "outputs": [
    {
     "name": "stdout",
     "output_type": "stream",
     "text": [
      "Length of dataset: 27558\n",
      "Item type: <class 'tuple'>\n",
      "Shape of tensors: torch.Size([3, 32, 32])\n",
      "tensor([1, 2, 3])\n"
     ]
    },
    {
     "data": {
      "image/png": "[encoded data removed]",
      "text/plain": [
       "<Figure size 640x480 with 1 Axes>"
      ]
     },
     "metadata": {},
     "output_type": "display_data"
    }
   ],
   "source": [
    "from matplotlib import pyplot as plt\n",
    "import torch\n",
    "\n",
    "dataset = dt.pytorch.Dataset(data_pipeline, files)\n",
    "\n",
    "# Print some information about the contents.\n",
    "print(f\"Length of dataset: {dataset.__len__()}\")\n",
    "item = dataset.__getitem__(np.random.randint(100))\n",
    "\n",
    "print(f\"Item type: {type(item)}\")\n",
    "\n",
    "tensor = item[0]\n",
    "print(f\"Shape of tensors: {tensor.shape}\")\n",
    "\n",
    "# Permute to make it plottable.\n",
    "tensor = torch.permute(tensor, (1, 2, 0))\n",
    "plt.imshow(tensor)\n",
    "\n",
    "# Additional utility to convert to a tensor.\n",
    "numpy_array = np.array([1, 2, 3])\n",
    "torch_tensor = dataset._as_tensor(numpy_array)\n",
    "\n",
    "print(torch_tensor)"
   ]
  }
 ],
 "metadata": {
  "kernelspec": {
   "display_name": "Python 3",
   "language": "python",
   "name": "python3"
  },
  "language_info": {
   "codemirror_mode": {
    "name": "ipython",
    "version": 3
   },
   "file_extension": ".py",
   "mimetype": "text/x-python",
   "name": "python",
   "nbconvert_exporter": "python",
   "pygments_lexer": "ipython3",
   "version": "3.9.13"
  }
 },
 "nbformat": 4,
 "nbformat_minor": 2
}

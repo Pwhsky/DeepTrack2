{
 "cells": [
  {
   "cell_type": "markdown",
   "metadata": {},
   "source": [
    "# deeptrack.extras.radialcenter\n",
    "\n",
    "<a href=\"https://colab.research.google.com/github/DeepTrackAI/DeepTrack2/blob/develop/tutorials/3-advanced-topics/DTAT395_extras.radialcenter.ipynb\" target=\"_parent\"><img src=\"https://colab.research.google.com/assets/colab-badge.svg\" alt=\"Open In Colab\"/></a>"
   ]
  },
  {
   "cell_type": "code",
   "execution_count": 1,
   "metadata": {},
   "outputs": [],
   "source": [
    "# !pip install deeptrack  # Uncomment if running on Colab/Kaggle."
   ]
  },
  {
   "cell_type": "markdown",
   "metadata": {},
   "source": [
    "This advanced tutorial introduces the deeptrack.extras.radialcenter module."
   ]
  },
  {
   "cell_type": "code",
   "execution_count": 2,
   "metadata": {},
   "outputs": [],
   "source": [
    "import matplotlib.pyplot as plt\n",
    "import numpy as np"
   ]
  },
  {
   "cell_type": "markdown",
   "metadata": {},
   "source": [
    "## 1. What is radialcenter?\n",
    "\n",
    "Radialcenter is a lightweight module that provides a single function to calculate the center of a intensity distribution.\n",
    "This calculation utilizes gradients and least-squares regression to return a pair of floats (x, y) representing the central position of the distribution in the image."
   ]
  },
  {
   "cell_type": "markdown",
   "metadata": {},
   "source": [
    "## 2. Setup the Optics Device \n",
    "\n",
    "Create an optical device `optics` through which to view scatterers, in this case a fluorescence microscope implemented by the `Fluorescence` class."
   ]
  },
  {
   "cell_type": "code",
   "execution_count": 3,
   "metadata": {
    "execution": {
     "iopub.execute_input": "2022-06-29T20:33:47.187180Z",
     "iopub.status.busy": "2022-06-29T20:33:47.186679Z",
     "iopub.status.idle": "2022-06-29T20:33:50.691576Z",
     "shell.execute_reply": "2022-06-29T20:33:50.691075Z"
    }
   },
   "outputs": [],
   "source": [
    "from deeptrack.optics import Fluorescence\n",
    "\n",
    "optics = Fluorescence(\n",
    "    NA=0.7,\n",
    "    wavelength=680e-9,\n",
    "    resolution=1e-6,\n",
    "    magnification=10,\n",
    "    output_region=(0, 0, 64, 64),\n",
    ")"
   ]
  },
  {
   "cell_type": "markdown",
   "metadata": {},
   "source": [
    "## 3. Point Particle\n",
    "\n",
    "The feature `PointParticle` resolves a point particle scatterer, which we will locate the center of with radialcenter."
   ]
  },
  {
   "cell_type": "code",
   "execution_count": 4,
   "metadata": {
    "execution": {
     "iopub.execute_input": "2022-06-29T20:33:50.697575Z",
     "iopub.status.busy": "2022-06-29T20:33:50.697075Z",
     "iopub.status.idle": "2022-06-29T20:33:51.422576Z",
     "shell.execute_reply": "2022-06-29T20:33:51.422075Z"
    }
   },
   "outputs": [
    {
     "name": "stdout",
     "output_type": "stream",
     "text": [
      "x = 5.000156988633563, y = 16.000010250461614\n"
     ]
    },
    {
     "data": {
      "text/plain": [
       "<matplotlib.collections.PathCollection at 0x256aabdf100>"
      ]
     },
     "execution_count": 4,
     "metadata": {},
     "output_type": "execute_result"
    },
    {
     "data": {
      "image/png": "[encoded data removed]",
      "text/plain": [
       "<Figure size 640x480 with 1 Axes>"
      ]
     },
     "metadata": {},
     "output_type": "display_data"
    }
   ],
   "source": [
    "from deeptrack.scatterers import PointParticle\n",
    "from deeptrack.extras.radialcenter import radialcenter\n",
    "\n",
    "scatterer = PointParticle(\n",
    "    intensity=100,  # Squared magnitude of the electric field.\n",
    "    position_unit=\"pixel\",  # Units of position (default meter).\n",
    "    position=(16, 5),  # Position of the particle from the upper left corner.\n",
    ")\n",
    "\n",
    "imaged_scatterer = optics(scatterer)\n",
    "\n",
    "intensity_distribution = imaged_scatterer.resolve()\n",
    "x, y = radialcenter(intensity_distribution)\n",
    "print(f\"x = {x}, y = {y}\")\n",
    "\n",
    "imaged_scatterer.plot(cmap=\"gray\")\n",
    "plt.scatter(x, y, c=\"red\")"
   ]
  },
  {
   "cell_type": "markdown",
   "metadata": {},
   "source": [
    "## 4. Ellipse \n",
    "\n",
    "The feature `Ellipse` resolves a 2-dimensional elliptical disk, which we apply the radialcenter function to."
   ]
  },
  {
   "cell_type": "code",
   "execution_count": 5,
   "metadata": {
    "execution": {
     "iopub.execute_input": "2022-06-29T20:33:51.426576Z",
     "iopub.status.busy": "2022-06-29T20:33:51.426576Z",
     "iopub.status.idle": "2022-06-29T20:33:51.521076Z",
     "shell.execute_reply": "2022-06-29T20:33:51.521076Z"
    }
   },
   "outputs": [
    {
     "name": "stdout",
     "output_type": "stream",
     "text": [
      "x = 31.999996389702574, y = 31.999996389702574\n"
     ]
    },
    {
     "name": "stderr",
     "output_type": "stream",
     "text": [
      "C:\\Users\\Alex Lech\\AppData\\Local\\Packages\\PythonSoftwareFoundation.Python.3.9_qbz5n2kfra8p0\\LocalCache\\local-packages\\Python39\\site-packages\\deeptrack\\scatterers.py:101: UserWarning: Setting upsample != 1 is deprecated. Please, instead use dt.Upscale(f, factor=4)\n",
      "  warnings.warn(\n"
     ]
    },
    {
     "data": {
      "text/plain": [
       "<matplotlib.collections.PathCollection at 0x256aadad640>"
      ]
     },
     "execution_count": 5,
     "metadata": {},
     "output_type": "execute_result"
    },
    {
     "data": {
      "image/png": "[encoded data removed]",
      "text/plain": [
       "<Figure size 640x480 with 1 Axes>"
      ]
     },
     "metadata": {},
     "output_type": "display_data"
    }
   ],
   "source": [
    "from deeptrack.scatterers import Ellipse\n",
    "\n",
    "scatterer = Ellipse(\n",
    "    intensity=100,  # Squared magnitude of the electric field.\n",
    "    position_unit=\"pixel\",  # Units of position (default meter).\n",
    "    position=(32, 32),  # Position of the particle.\n",
    "    radius=(1e-6, 0.5e-6),  # Dimensions of the principal axes of the ellipse.\n",
    "    rotation=np.pi / 4,  # Amount the ellipse is rotated by in radians.\n",
    "    upsample=4,  # Amount the resolution is upsampled for accuracy.\n",
    ")\n",
    "\n",
    "imaged_scatterer = optics(scatterer)\n",
    "\n",
    "intensity_distribution = imaged_scatterer.resolve()\n",
    "x, y = radialcenter(intensity_distribution)\n",
    "print(f\"x = {x}, y = {y}\")\n",
    "\n",
    "imaged_scatterer.plot(cmap=\"gray\")\n",
    "plt.scatter(x, y, c=\"red\")"
   ]
  },
  {
   "cell_type": "markdown",
   "metadata": {},
   "source": [
    "## 5. Multiple objects\n",
    "Next up will be a demonstration on how radialcenter handles multiple objects.\n",
    "Since this function treats the whole input image as a distribution, it will only compute a single center position. "
   ]
  },
  {
   "cell_type": "code",
   "execution_count": 6,
   "metadata": {},
   "outputs": [
    {
     "name": "stdout",
     "output_type": "stream",
     "text": [
      "x = 22.185402075065056, y = 26.5916598606794\n"
     ]
    },
    {
     "data": {
      "text/plain": [
       "<matplotlib.collections.PathCollection at 0x256ab2cb520>"
      ]
     },
     "execution_count": 6,
     "metadata": {},
     "output_type": "execute_result"
    },
    {
     "data": {
      "image/png": "[encoded data removed]",
      "text/plain": [
       "<Figure size 640x480 with 1 Axes>"
      ]
     },
     "metadata": {},
     "output_type": "display_data"
    }
   ],
   "source": [
    "imaged_scatterer = optics(scatterer)\n",
    "for i in range(5):\n",
    "    scatterer = Ellipse(\n",
    "        intensity=100,  # Squared magnitude of the electric field.\n",
    "        position_unit=\"pixel\",  # Units of position (default meter).\n",
    "        position=(16+i*6, 16+i*2),  # Position of the particle.\n",
    "        radius=(1e-6, 0.5e-6),  # Dimensions of the principal axes of the ellipse.\n",
    "        rotation=np.pi / 4,  # Amount the ellipse is rotated by in radians.\n",
    "        upsample=4,  # Amount the resolution is upsampled for accuracy.\n",
    "    )\n",
    "    imaged_scatterer += optics(scatterer)\n",
    "\n",
    "\n",
    "intensity_distribution = imaged_scatterer.resolve()\n",
    "x, y = radialcenter(intensity_distribution)\n",
    "print(f\"x = {x}, y = {y}\")\n",
    "\n",
    "imaged_scatterer.plot(cmap=\"gray\")\n",
    "plt.scatter(x, y, c=\"red\")"
   ]
  }
 ],
 "metadata": {
  "kernelspec": {
   "display_name": "Python 3",
   "language": "python",
   "name": "python3"
  },
  "language_info": {
   "codemirror_mode": {
    "name": "ipython",
    "version": 3
   },
   "file_extension": ".py",
   "mimetype": "text/x-python",
   "name": "python",
   "nbconvert_exporter": "python",
   "pygments_lexer": "ipython3",
   "version": "3.9.13"
  }
 },
 "nbformat": 4,
 "nbformat_minor": 2
}

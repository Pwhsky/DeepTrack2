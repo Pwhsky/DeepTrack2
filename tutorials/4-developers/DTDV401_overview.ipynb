{
 "cells": [
  {
   "cell_type": "markdown",
   "metadata": {},
   "source": [
    "# Codebase Overview\n",
    "\n",
    "This notebook is intended to provide developers with orientation on how the different parts of the DeepTrack2 codebase work together, with a focus on the lower level modules and core functionalities. This tutorial should ideally be read while checking the [deeptrack directory structure](https://github.com/DeepTrackAI/DeepTrack2/tree/develop/deeptrack) in order to provide perspective.\n",
    "\n",
    "The following topics will be covered:\n",
    "\n",
    "- Module structure\n",
    "\n",
    "- Low-level modules, such as `core` and `image`.\n",
    "\n",
    "- The `features` module.\n",
    "\n",
    "- The `image` module.\n",
    "\n",
    "- High-level modules, such as `holography` and `optics`.\n",
    "\n",
    "- Utility and handle modules."
   ]
  },
  {
   "cell_type": "markdown",
   "metadata": {},
   "source": [
    "\n",
    "## 1. What is a Module?\n",
    "\n",
    "A module in the DeepTrack2 framework is a `.py` source code file \n",
    "containing classes and methods that implement functionalities in a _modular_ way, making maintenance and debugging easier. Inheritance is used heavily in the design pattern of DeepTrack2, and understanding the module hierarchy is crucial."
   ]
  },
  {
   "cell_type": "markdown",
   "metadata": {},
   "source": [
    "## 2. Module Structure\n",
    "\n",
    "Each module should be clearly documented in the beginning.\n",
    "\n",
    "Often modules contain some **abstract** classes to provide a standardized implementation of core functionality (for example, image transformation) to ensure consistent output formatting across all derived classes in the module (for instance, to ensure that the format of the output image is the same).\n",
    "\n",
    "\n",
    "A typical module is structured like the following:\n",
    "\n",
    "```python\n",
    "\n",
    "\"\"\"Example module.\n",
    "\n",
    "...\n",
    "\n",
    "\"\"\"\n",
    "\n",
    "from deeptrack.backend import BackendClass\n",
    "\n",
    "\n",
    "class AbstractClass(BackendClass):\n",
    "    \"\"\"Define abstract class that inherits from some backbone module.\n",
    "\n",
    "    \"\"\"\n",
    "\n",
    "    def __init__(...):\n",
    "        super().__init__(...)\n",
    "    \n",
    "    def process():\n",
    "        self.get()\n",
    "\n",
    "\n",
    "class AdditionCase(AbstractClass):\n",
    "    \"\"\"Define concrete implementation of the abstract class.\n",
    "\n",
    "    \"\"\"\n",
    "    \n",
    "    def __init__(...):\n",
    "        super().__init__(...)\n",
    "    \n",
    "    # Define abstract method.\n",
    "    def get(...):\n",
    "        return 1 + 1\n",
    "\n",
    "```"
   ]
  },
  {
   "cell_type": "markdown",
   "metadata": {},
   "source": [
    "## 3. Type Hints for Code Readability\n",
    "\n",
    "As type hints are used extensively to improve code readability in accordance with the [style guide](https://github.com/DeepTrackAI/DeepTrack2/blob/develop/tutorials/4-developers/DTDV411_style.ipynb), DeepTrack2 introduces a few custom type hints for internal use, which are declared in the [types](https://github.com/DeepTrackAI/DeepTrack2/blob/develop/deeptrack/types.py) module.\n",
    "\n",
    "Currently there are three type aliases:\n",
    "\n",
    "- `PropertyLike`: Alias representing either a value of generic type `T` or a callable function returning a value of generic type `T`.\n",
    "\n",
    "- `ArrayLike`: Alias for array-like structures (e.g., tuples, lists, numpy arrays).\n",
    "\n",
    "- `NumberLike`: Alias for numeric types, including scalars and arrays (e.g., numpy \n",
    "    arrays, GPU tensors).\n",
    "\n",
    "You can incorporate these type hints like the following:\n",
    "\n",
    "```python\n",
    "from __future__ import annotations\n",
    "\n",
    "from .types import ArrayLike, PropertyLike\n",
    "\n",
    "def ClassName():\n",
    "\n",
    "    def get(\n",
    "            self : ClassName,\n",
    "            image: ArrayLike,\n",
    "            uses: PropertyLike[int],\n",
    "            storage: PropertyLike[int],\n",
    "            **kwargs\n",
    "    ) -> List[ArrayLike]:\n",
    "\n",
    "```"
   ]
  },
  {
   "cell_type": "markdown",
   "metadata": {},
   "source": [
    "## 4. Low-Level Modules — backend and sources\n",
    "\n",
    "This section covers the low-level modules in DeepTrack2 found in [backend](https://github.com/DeepTrackAI/DeepTrack2/blob/develop/deeptrack/backend/) and [sources](https://github.com/DeepTrackAI/DeepTrack2/blob/develop/deeptrack/sources/). The contents of the modules are classes and methods that have simple but important functionalities and form the base for higher level modules.\n"
   ]
  },
  {
   "cell_type": "markdown",
   "metadata": {},
   "source": [
    "### 4.1. Backend is the Backbone of DeepTrack2\n",
    "\n",
    "The [backend](https://github.com/DeepTrackAI/DeepTrack2/blob/develop/deeptrack/backend/) directory contains the code that forms the backbone of the DeepTrack2 framework. It consists of five modules:\n",
    "\n",
    "- [core](https://github.com/DeepTrackAI/DeepTrack2/blob/develop/deeptrack/backend/core.py): Provides the core DeepTrack2 classes to manage and process data on a fundamental level.  \n",
    "More specifically, [core](https://github.com/DeepTrackAI/DeepTrack2/blob/develop/deeptrack/backend/core.py) introduces the `DeepTrackNode` class which is used to represent a node in a computation graph, which when used together with the `DeepTrackDataObject` class can store data and compute new data based on its dependencies and child nodes. Inherent to these classes is their utility for dependency tracking and data validation with ID and index addresses.  \n",
    "The [core](https://github.com/DeepTrackAI/DeepTrack2/blob/develop/deeptrack/backend/core.py) module also provides the base class for the [features](https://github.com/DeepTrackAI/DeepTrack2/blob/develop/deeptrack/features.py) module which is the biggest module in DeepTrack2 in terms of code volume, and in turn forms the base class for all other modules in the deeptrack directory, the only exceptions being [image](https://github.com/DeepTrackAI/DeepTrack2/blob/develop/deeptrack/image.py) and [properties](https://github.com/DeepTrackAI/DeepTrack2/blob/develop/deeptrack/properties.py).\n",
    "\n",
    "- [mie](https://github.com/DeepTrackAI/DeepTrack2/blob/develop/deeptrack/backend/mie.py): Provides functions to perform Mie scattering calculations often used in simulations.  \n",
    "In particular, it provides methods to compute coefficients for both spherical and stratified spherical harmonics, and to calculate the spherical harmonics of the Mie field with an iterative method.\n",
    "\n",
    "- [pint_definition](https://github.com/DeepTrackAI/DeepTrack2/blob/develop/deeptrack/backend/pint_definition.py): Extends Pint's default definitions by introducing project-specific constants and unit modifications for flexible calculations in the context of DeepTrack2.\n",
    "\n",
    "- [polynomials](https://github.com/DeepTrackAI/DeepTrack2/blob/develop/deeptrack/backend/polynomials.py): Provides a set of functions which compute Bessel and Riccati-Bessel polynomials and their derivatives.\n",
    "\n",
    "- [units](https://github.com/DeepTrackAI/DeepTrack2/blob/develop/deeptrack/backend/units.py): Provides unit management and conversions for simulations involving voxel dimensions and scaling factors."
   ]
  },
  {
   "cell_type": "markdown",
   "metadata": {},
   "source": [
    "### 4.2. Managing data sources\n",
    "\n",
    "The [sources](https://github.com/DeepTrackAI/DeepTrack2/blob/develop/deeptrack/sources/) directory contains the code used to provide utility classes to manage image data sources and random number generators, the modules are:\n",
    "\n",
    "- [base](https://github.com/DeepTrackAI/DeepTrack2/blob/develop/deeptrack/sources/base.py): Extends DeepTrackNode objects to represent sources of data, and enables data validity checking.\n",
    "\n",
    "- [folder](https://github.com/DeepTrackAI/DeepTrack2/blob/develop/deeptrack/sources/folder.py): Extends the [base](https://github.com/DeepTrackAI/DeepTrack2/blob/develop/deeptrack/sources/base.py) module by introducing utilities to organize sources in directories with labeling and source splitting.\n",
    "\n",
    "- [rng](https://github.com/DeepTrackAI/DeepTrack2/blob/develop/deeptrack/sources/rng.py): Extends both the standard library rng and NumPy rng to let the user instance as many generators as desired with unique seeds."
   ]
  },
  {
   "cell_type": "markdown",
   "metadata": {},
   "source": [
    "## 5.  Data Structures and Transformations - features\n",
    "\n",
    "The [features](https://github.com/DeepTrackAI/DeepTrack2/blob/develop/deeptrack/features.py)  module introduces the `Feature` and `StructuralFeature` base classes, which form the base for all \n",
    "features and their implementations in DeepTrack2.\n",
    "\n",
    "A `Feature` is a building block of a data processing pipeline, representing a transformation applied to data.\n",
    "\n",
    "Often features are used to transform images. Some examples of these image transformations are: rotations or deformations; noise addition or background illumination; non-additive elements, such as Poisson noise.\n",
    "\n",
    "For example, in the [augmentations](https://github.com/DeepTrackAI/DeepTrack2/blob/develop/deeptrack/augmentations.py) module: an augmentation that rotates an image is implemented as a subclass to `Feature`.\n",
    "\n",
    "The `StructuralFeature` class further extends `Feature` by adding\n",
    "logical structures, such as branches or chaining. It enables the construction of data pipelines with more advanced requirements."
   ]
  },
  {
   "cell_type": "markdown",
   "metadata": {},
   "source": [
    "## 6. Adding Attributes and Properties to Features - properties\n",
    "\n",
    "The [properties](https://github.com/DeepTrackAI/DeepTrack2/blob/develop/deeptrack/properties.py) module introduces the `Property`, `SequentialProperty` and `PropertyDict` base classes, which, when used in combination with the [features](https://github.com/DeepTrackAI/DeepTrack2/blob/develop/deeptrack/features.py) module, let the user add values to a `Feature`. \n",
    "\n",
    "The value of a `Property` has no datatype restrictions and can represent a constant, a function, a list, an `Image`, etc. \n",
    "\n",
    "`PropertyDict` represents a dictionary with `Property` elements.\n",
    "\n",
    "`SequentialProperty` extends the `Property` class to enables sequential updates to handle scenarios where the property’s value evolves over discrete steps, such as frames in a video or datapoints in a time series."
   ]
  },
  {
   "cell_type": "markdown",
   "metadata": {},
   "source": [
    "\n",
    "\n",
    "## 7. Containers for Array-Like Structures - image\n",
    "\n",
    "The [image](https://github.com/DeepTrackAI/DeepTrack2/blob/develop/deeptrack/image.py) module only contains a single class, namely `Image`. This class serves as a wrapper for array-like data and provides a unified interface for array operations and property management with NumPy and CuPy compatibility.\n",
    "\n",
    "Several utility functions are also included, which can be used to manipulate `Image` objects within pipelines, such as image coercion to ensure a consistent type across a series of images, padding to optimize Fast Fourier Transform performance, or conversion to CuPy arrays with GPU-based acceleration."
   ]
  },
  {
   "cell_type": "markdown",
   "metadata": {},
   "source": [
    "\n",
    "## 8. High-Level Modules\n",
    "\n",
    "The following modules jointly implement the main functionality of DeepTrack2, which is synthetic data generation using simulations. All the classes in the following modules extend `Feature` and utilize `Image` objects as containers, as all of these represent transformations in some way:\n",
    "\n",
    "- [scatterers](https://github.com/DeepTrackAI/DeepTrack2/blob/develop/deeptrack/scatterers.py): Framework for implementing light-scattering objects.\n",
    "\n",
    "- [optics](https://github.com/DeepTrackAI/DeepTrack2/blob/develop/deeptrack/optics.py): Framework for simulating the optics of a variety of microscopy setups such as darkfield, fluorescence, or brightfield, as well as incorporating the interaction between a sample (often a scatterer object) and a microscopy setup.\n",
    "\n",
    "- [holography](https://github.com/DeepTrackAI/DeepTrack2/blob/develop/deeptrack/holography.py): Provides features for managing optical fields with Fourier transforms and propagation matrices for usage in simulation pipelines and holographic reconstructions.\n",
    "\n",
    "- [aberrations](https://github.com/DeepTrackAI/DeepTrack2/blob/develop/deeptrack/aberrations.py): Framework to simulate optical aberrations in microscopy setups by implementing Zernike polynomials and Gaussian pupil apodization.\n",
    "\n",
    "- [augmentations](https://github.com/DeepTrackAI/DeepTrack2/blob/develop/deeptrack/augmentations.py): Framework to augment data with various transformations and image manipulation techniques such as rotations, deformations, cropping, padding.\n",
    "\n",
    "- [noises](https://github.com/DeepTrackAI/DeepTrack2/blob/develop/deeptrack/noises.py): Framework to add various types of additive noise to images as well as Poisson noise based on signal-to-noise ratio."
   ]
  },
  {
   "cell_type": "markdown",
   "metadata": {},
   "source": [
    "\n",
    "## 9. Handle and Utility Modules\n",
    "\n",
    "The following modules play a mediating role between external libraries and DeepTrack2, such as integrating Pytorch classes or Numpy functions, as well as utilities for type consistency and radial center calculations."
   ]
  },
  {
   "cell_type": "markdown",
   "metadata": {},
   "source": [
    "### 9.1. Numpy\n",
    "The following modules provides handles to enable the use of NumPy functions with DeepTrack2 objects as well as mathematical utilities:\n",
    "\n",
    "- [elementwise](https://github.com/DeepTrackAI/DeepTrack2/blob/develop/deeptrack/elementwise.py): Provides handles to perform various elementary NumPy functions elementwise and sequentially when using `Feature` objects. For example, some of these functions include trigonometric, hyperbolic, rounding, exponents.\n",
    "\n",
    "- [math](https://github.com/DeepTrackAI/DeepTrack2/blob/develop/deeptrack/math.py): Provides utilities for various types of normalization, blurring, pooling, and resizing of `Image` objects.\n",
    "\n",
    "- [statistics](https://github.com/DeepTrackAI/DeepTrack2/blob/develop/deeptrack/statistics.py): Provides handles to perform various statistical NumPy functions on a given `Feature` objects along a given axis. "
   ]
  },
  {
   "cell_type": "markdown",
   "metadata": {},
   "source": [
    "### 9.2. Pytorch\n",
    "Located in the [pytorch](https://github.com/DeepTrackAI/DeepTrack2/blob/develop/deeptrack/pytorch/) directory, there are two modules to facilitate PyTorch integration with DeepTrack2 objects:\n",
    "\n",
    "- [pytorch.data](https://github.com/DeepTrackAI/DeepTrack2/blob/develop/deeptrack/pytorch/data.py): Extends the PyTorch [Dataset](https://pytorch.org/tutorials/beginner/basics/data_tutorial.html) class to work with DeepTrack2 `Image` objects.\n",
    "\n",
    "- [pytorch.features](https://github.com/DeepTrackAI/DeepTrack2/blob/develop/deeptrack/pytorch/features.py): Extends `Feature` to be able to convert an input to a PyTorch [Tensor](https://pytorch.org/docs/stable/tensors.html)."
   ]
  },
  {
   "cell_type": "markdown",
   "metadata": {},
   "source": [
    "### 9.3. Deeplay\n",
    "The init file in [deeplay/\\_\\_init__.py](https://github.com/DeepTrackAI/DeepTrack2/blob/develop/deeptrack/deeplay/__init__.py) enables users to import Deeplay from DeepTrack2 with:\n",
    "\n",
    "```python \n",
    "import deeptrack.deeplay as dl\n",
    "```"
   ]
  },
  {
   "cell_type": "markdown",
   "metadata": {},
   "source": [
    "### 9.4. Other Modules\n",
    "\n",
    "- [utils](https://github.com/DeepTrackAI/DeepTrack2/blob/develop/deeptrack/utils.py): Provides various utilities to streamline common operations, ensuring type and argument consistency with various check methods and safe call.\n",
    "\n",
    "- [extras.radialcenter](https://github.com/DeepTrackAI/DeepTrack2/blob/develop/deeptrack/extras/radialcenter.py): Introduces a single function to calculate the center location of an intensity distribution with a least-squares method."
   ]
  },
  {
   "cell_type": "markdown",
   "metadata": {},
   "source": [
    "## 10. Unit testing\n",
    "\n",
    "The unit testing scripts are found in the [tests](https://github.com/DeepTrackAI/DeepTrack2/blob/develop/deeptrack/tests/) directory, and follow the same structure as the [deeptrack](https://github.com/DeepTrackAI/DeepTrack2/tree/develop/deeptrack) directory with a test script for each module.\n",
    "\n",
    "\n"
   ]
  }
 ],
 "metadata": {
  "kernelspec": {
   "display_name": "py_env_book",
   "language": "python",
   "name": "python3"
  },
  "language_info": {
   "codemirror_mode": {
    "name": "ipython",
    "version": 3
   },
   "file_extension": ".py",
   "mimetype": "text/x-python",
   "name": "python",
   "nbconvert_exporter": "python",
   "pygments_lexer": "ipython3",
   "version": "3.10.15"
  }
 },
 "nbformat": 4,
 "nbformat_minor": 2
}
